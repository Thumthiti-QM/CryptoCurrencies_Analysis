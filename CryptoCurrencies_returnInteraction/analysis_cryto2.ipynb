{
 "cells": [
  {
   "cell_type": "code",
   "execution_count": null,
   "id": "sound-content",
   "metadata": {},
   "outputs": [],
   "source": [
    "import investpy"
   ]
  },
  {
   "cell_type": "code",
   "execution_count": 2,
   "id": "banned-czech",
   "metadata": {},
   "outputs": [],
   "source": [
    "import numpy as np\n",
    "import pandas as pd"
   ]
  },
  {
   "cell_type": "code",
   "execution_count": 3,
   "id": "particular-republican",
   "metadata": {},
   "outputs": [],
   "source": [
    "Crypto_BTC = investpy.get_crypto_historical_data(crypto='bitcoin', from_date='01/01/1990', to_date='01/01/2022')\n",
    "Crypto_ETH = investpy.get_crypto_historical_data(crypto='Ethereum', from_date='01/01/1990', to_date='01/01/2022')\n",
    "\n",
    "Crypto_USDT = investpy.get_crypto_historical_data(crypto='Tether', from_date='01/01/1990', to_date='01/01/2022')\n"
   ]
  },
  {
   "cell_type": "code",
   "execution_count": 4,
   "id": "adjacent-float",
   "metadata": {},
   "outputs": [],
   "source": [
    "stock_dow = investpy.indices.get_index_historical_data(index = \"DOW 30\", country = \"United States\", from_date='01/01/1990',  to_date='01/01/2022')\n",
    "stock_sp500 = investpy.indices.get_index_historical_data(index = \"S&P 500\", country = \"United States\", from_date='01/01/1990',  to_date='01/01/2022')\n",
    "stock_ftse100 = investpy.indices.get_index_historical_data(index = \"FTSE 100\", country = \"United Kingdom\", from_date='01/01/1990',  to_date='01/01/2022')\n",
    "stock_spasx200 = investpy.indices.get_index_historical_data(index = \"S&P/ASX 200\", country = \"Australia\", from_date='01/01/1990',  to_date='01/01/2022')\n",
    "stock_sptsx = investpy.indices.get_index_historical_data(index = \"S&P/TSX\", country = \"Canada\", from_date='01/01/1990',  to_date='01/01/2022')\n",
    "stock_shai = investpy.indices.get_index_historical_data(index = \"Shanghai\", country = \"China\", from_date='01/01/1990',  to_date='01/01/2022')\n",
    "stock_cac40 = investpy.indices.get_index_historical_data(index = \"CAC 40\", country = \"France\", from_date='01/01/1990',  to_date='01/01/2022')\n",
    "stock_dax = investpy.indices.get_index_historical_data(index = \"DAX\", country = \"Germany\", from_date='01/01/1990',  to_date='01/01/2022')\n",
    "stock_hs = investpy.indices.get_index_historical_data(index = \"Hang Seng\", country = \"Hong Kong\", from_date='01/01/1990',  to_date='01/01/2022')\n",
    "stock_nfty = investpy.indices.get_index_historical_data(index = \"Nifty 50\", country = \"India\", from_date='01/01/1990',  to_date='01/01/2022')\n",
    "stock_nikkei = investpy.indices.get_index_historical_data(index = \"Nikkei 225\", country = \"Japan\", from_date='01/01/1990',  to_date='01/01/2022')\n",
    "stock_kospi = investpy.indices.get_index_historical_data(index = \"KOSPI\", country = \"South Korea\", from_date='01/01/1990',  to_date='01/01/2022')\n",
    "stock_smi = investpy.indices.get_index_historical_data(index = \"SMI\", country = \"Switzerland\", from_date='01/01/1990',  to_date='01/01/2022')\n",
    "stock_set = investpy.indices.get_index_historical_data(index = \"SET\", country = \"Thailand\", from_date='01/01/1990',  to_date='01/01/2022')\n",
    "\n"
   ]
  },
  {
   "cell_type": "code",
   "execution_count": null,
   "id": "fantastic-customs",
   "metadata": {},
   "outputs": [],
   "source": [
    "\n",
    "Alter_GOLD = investpy.get_commodity_historical_data(commodity='gold', from_date='01/01/1990', to_date='01/01/2022')\n",
    "Alter_SILVER = investpy.get_commodity_historical_data(commodity='silver', from_date='01/01/1990', to_date='01/01/2022')\n",
    "Alter_OIL = investpy.get_commodity_historical_data(commodity='Crude Oil WTI', from_date='01/01/1990', to_date='01/01/2022')\n",
    "Alter_US10Y = investpy.bonds.get_bond_historical_data(bond = \"U.S. 10Y\", from_date='01/01/1990', to_date='01/01/2022')\n",
    "Alter_US2Y = investpy.bonds.get_bond_historical_data(bond = \"U.S. 2Y\", from_date='01/01/1990', to_date='01/01/2022')\n",
    "Alter_US3M = investpy.bonds.get_bond_historical_data(bond = \"U.S. 3M\", from_date='01/01/1990', to_date='01/01/2022')\n",
    "Alter_Wheat = investpy.get_commodity_historical_data(commodity='US Wheat', from_date='01/01/1990', to_date='01/01/2022')\n",
    "Alter_CORN = investpy.get_commodity_historical_data(commodity='US Corn', from_date='01/01/1990', to_date='01/01/2022')\n",
    "Alter_SOYBEAN = investpy.get_commodity_historical_data(commodity='US Soybeans', from_date='01/01/1990', to_date='01/01/2022')\n",
    "Alter_DXY = investpy.indices.get_index_historical_data(index = \"US Dollar Index\", country = \"United States\", from_date='01/01/1990',  to_date='01/01/2022')\n"
   ]
  },
  {
   "cell_type": "code",
   "execution_count": null,
   "id": "extreme-calvin",
   "metadata": {},
   "outputs": [],
   "source": []
  },
  {
   "cell_type": "code",
   "execution_count": null,
   "id": "young-catholic",
   "metadata": {},
   "outputs": [],
   "source": [
    "### avg daily return on month: CORR\n",
    "\n",
    "import seaborn as sns\n",
    "import matplotlib.pyplot as plt\n",
    "\n",
    "\n",
    "df_for_cor = concatenated_prep.filter(regex='mean')\n",
    "correlation_mat = df_for_cor.corr()\n",
    "sns.heatmap(correlation_mat, annot = True)\n",
    "plt.show()"
   ]
  }
 ],
 "metadata": {
  "kernelspec": {
   "display_name": "Python 3",
   "language": "python",
   "name": "python3"
  },
  "language_info": {
   "codemirror_mode": {
    "name": "ipython",
    "version": 3
   },
   "file_extension": ".py",
   "mimetype": "text/x-python",
   "name": "python",
   "nbconvert_exporter": "python",
   "pygments_lexer": "ipython3",
   "version": "3.7.0"
  }
 },
 "nbformat": 4,
 "nbformat_minor": 5
}
